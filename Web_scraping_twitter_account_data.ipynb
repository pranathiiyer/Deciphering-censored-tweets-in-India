{
 "cells": [
  {
   "cell_type": "markdown",
   "id": "a01ee3e9",
   "metadata": {},
   "source": [
    "# Code for scraping data from the Lumen database at Harvard University, using their API\n",
    "## Final objective: To get details of twitter accounts against whom the Government of India took action between May 2019 and October 2021 "
   ]
  },
  {
   "cell_type": "code",
   "execution_count": 93,
   "id": "6e3205ad",
   "metadata": {},
   "outputs": [],
   "source": [
    "import requests\n",
    "import time\n",
    "import random\n",
    "import textract\n",
    "import validators\n",
    "import os\n",
    "import pandas as pd\n",
    "from bs4 import BeautifulSoup"
   ]
  },
  {
   "cell_type": "markdown",
   "id": "089a122e",
   "metadata": {},
   "source": [
    "## Step 1\n",
    "Getting links to notices of the government to twitter, by scraping first 5 search pages of the Lumen Database"
   ]
  },
  {
   "cell_type": "code",
   "execution_count": 53,
   "id": "d5e89096",
   "metadata": {},
   "outputs": [],
   "source": [
    "url = 'https://www.lumendatabase.org/notices/search?utf8=%E2%9C%93&\\\n",
    "date_received_facet=1602734400000.0..1634270400000.2&term=twitter+government+india'\n",
    "\n",
    "'https://www.lumendatabase.org/notices/search?\\\n",
    "date_received_facet=1602734400000.0..1634270400000.0&page=2&term=twitter+government+india'\n",
    "headers = {\n",
    "    'User-Agent': 'Mozilla/5.0 (Macintosh; Intel Mac OS X 10_14_5) \\\n",
    "    AppleWebKit/537.36 (KHTML, like Gecko) Chrome/92.0.4515.159 Safari/537.36',\n",
    "}\n",
    "extension_urls = []\n",
    "for i in range (1,5):\n",
    "    url = 'https://www.lumendatabase.org/notices/search?\\\n",
    "    date_received_facet=1602734400000.0..1634270400000.0&page='+str(i)+'&term=twitter+government+india'\n",
    "    \n",
    "    time.sleep(random.uniform(1, 5))\n",
    "    reqs = requests.get(url,headers=headers)\n",
    "    soup = BeautifulSoup(reqs.text, 'html.parser')\n",
    "\n",
    "\n",
    "    for link in soup.find_all('a'):\n",
    "        a=(link.get('href'))\n",
    "        if 'notices' in a and 'search' not in a:\n",
    "            extension_urls.append(a)\n",
    "         \n",
    "        \n",
    "         \n",
    "    "
   ]
  },
  {
   "cell_type": "markdown",
   "id": "d33ea38a",
   "metadata": {},
   "source": [
    "## Step 2\n",
    "From the urls of notices acquired above, using html tags, and other key words to access specific urls which can be used to download documents which actually contain the details of the accounts"
   ]
  },
  {
   "cell_type": "code",
   "execution_count": 55,
   "id": "ca5f84f6",
   "metadata": {},
   "outputs": [],
   "source": [
    "headers = {\n",
    "    'User-Agent': 'Mozilla/5.0 (Macintosh; Intel Mac OS X 10_14_5) AppleWebKit/537.36 (KHTML, like Gecko) Chrome/92.0.4515.159 Safari/537.36',\n",
    "    \"X-Authentication-Token\":\"auth_token\"}\n",
    "download_urls = []\n",
    "\n",
    "base_url_1 = 'https://www.lumendatabase.org'\n",
    "base_url_2 = '.html?authentication_token='+auth_token\n",
    "for ext in extension_urls:\n",
    "    url = base_url_1 + str(ext) + base_url_2\n",
    "    time.sleep(random.uniform(1, 5))\n",
    "    r = requests.get(url,'html.parser',headers=headers)\n",
    "    soup= BeautifulSoup(r.text, 'html.parser')\n",
    "    \n",
    "   \n",
    "    for link in soup.find_all('a'):\n",
    "        a=(link.get('href'))\n",
    "        if 'file_uploads'in a:\n",
    "            download_urls.append(base_url_1+str(a))\n",
    "         \n"
   ]
  },
  {
   "cell_type": "markdown",
   "id": "a45d01f8",
   "metadata": {},
   "source": [
    "## Step 3\n",
    "Accessing dates of each of the pdfs by accessing Epoch dates in theor urls and converting to regular YYYY-MM-DD format"
   ]
  },
  {
   "cell_type": "code",
   "execution_count": 113,
   "id": "6af5194b",
   "metadata": {},
   "outputs": [],
   "source": [
    "dates = []\n",
    "for url in download_urls:\n",
    "    t = int(url[-10:])\n",
    "  \n",
    "    dates.append(time.strftime(\"%Y-%m-%d \", time.gmtime(t)))"
   ]
  },
  {
   "cell_type": "markdown",
   "id": "b9c2d1bc",
   "metadata": {},
   "source": [
    "## Step 4\n",
    "Cleaning the dates accessed above by stripping the extra white space at the end of the dates"
   ]
  },
  {
   "cell_type": "code",
   "execution_count": 114,
   "id": "ba9ae244",
   "metadata": {},
   "outputs": [],
   "source": [
    "dates_cleaned= []\n",
    "for date in dates:\n",
    "    date=str(date).rstrip()\n",
    "    dates_cleaned.append(date)\n",
    "    "
   ]
  },
  {
   "cell_type": "markdown",
   "id": "9c53a063",
   "metadata": {},
   "source": [
    "## Step 5\n",
    "Now that we have the urls for each of the documents with account details, we use a curl command along with the required arguments using bash and subprocess in python, to download the documents,and then save them their corresponding dates as the filenames."
   ]
  },
  {
   "cell_type": "code",
   "execution_count": 164,
   "id": "3c72407f",
   "metadata": {},
   "outputs": [],
   "source": [
    "import subprocess\n",
    "n=len(download_urls)\n",
    "for i in range(n):\n",
    "    bash = ['curl', '-H',\"User-Agent: Mozilla/5.0 (Macintosh; Intel Mac OS X 10_14_5) AppleWebKit/537.36 (KHTML, like Gecko) Chrome/94.0.4606.81 Safari/537.36\",\n",
    "            '-H',\"X-Authentication-Token:auth_token\",\n",
    "            download_urls[i], '-o', str(dates_cleaned[i])+'.pdf']\n",
    "                          \n",
    "    subprocess.call(bash)               \n"
   ]
  },
  {
   "cell_type": "markdown",
   "id": "187ee36a",
   "metadata": {},
   "source": [
    "## Step 6\n",
    "Once we have all the downloaded documents, we write a script in Python to extract text from these documents, specifically urls of the twitter accounts that the government took action against.\n"
   ]
  },
  {
   "cell_type": "code",
   "execution_count": 172,
   "id": "9a9be250",
   "metadata": {},
   "outputs": [
    {
     "name": "stdout",
     "output_type": "stream",
     "text": [
      "invalid file\n",
      "invalid file\n"
     ]
    }
   ],
   "source": [
    "accounts = {}\n",
    "\n",
    "\n",
    "directory = \"/Users/pranathiiyer/Desktop/Comp Analysis of Social \" \\\n",
    "            \"Processes/Archive/\"\n",
    "for filename in os.listdir(directory):\n",
    "    try:\n",
    "\n",
    "        text = textract.process(\n",
    "            \"/Users/pranathiiyer/Desktop/Comp Analysis of Social \"\n",
    "            \"Processes/Archive/\" + str(filename))\n",
    "        text = (str(text).split('List of Content Actioned in Jurisdiction')[1]\n",
    "            .split('Requested')[0])\n",
    "        text = text.split(r'\\n')\n",
    "\n",
    "        for element in text:\n",
    "            valid = validators.url(element)\n",
    "            if valid:\n",
    "                if filename in accounts:\n",
    "                    accounts[filename].append(element)\n",
    "                else:\n",
    "                    accounts[filename.replace('.pdf',\"\")]=[element]\n",
    "    except:\n",
    "\n",
    "        print('invalid file')\n",
    "        \n",
    "\n"
   ]
  },
  {
   "cell_type": "markdown",
   "id": "f21072b0",
   "metadata": {},
   "source": [
    "## Step 7\n",
    "Finally we load the account details along with the dates that action was requested against them, in a dataframe."
   ]
  },
  {
   "cell_type": "code",
   "execution_count": 170,
   "id": "1961d7df",
   "metadata": {},
   "outputs": [
    {
     "data": {
      "text/html": [
       "<style  type=\"text/css\" >\n",
       "#T_a28a3_row0_col1,#T_a28a3_row1_col1,#T_a28a3_row2_col1,#T_a28a3_row3_col1,#T_a28a3_row4_col1,#T_a28a3_row5_col1,#T_a28a3_row6_col1,#T_a28a3_row7_col1,#T_a28a3_row8_col1,#T_a28a3_row9_col1,#T_a28a3_row10_col1,#T_a28a3_row11_col1,#T_a28a3_row12_col1,#T_a28a3_row13_col1,#T_a28a3_row14_col1,#T_a28a3_row15_col1,#T_a28a3_row16_col1,#T_a28a3_row17_col1,#T_a28a3_row18_col1,#T_a28a3_row19_col1,#T_a28a3_row20_col1,#T_a28a3_row21_col1,#T_a28a3_row22_col1,#T_a28a3_row23_col1,#T_a28a3_row24_col1,#T_a28a3_row25_col1,#T_a28a3_row26_col1{\n",
       "            width:  500px;\n",
       "        }</style><table id=\"T_a28a3_\" ><thead>    <tr>        <th class=\"blank level0\" ></th>        <th class=\"col_heading level0 col0\" >Date</th>        <th class=\"col_heading level0 col1\" >Accounts whose contents were actioned</th>    </tr></thead><tbody>\n",
       "                <tr>\n",
       "                        <th id=\"T_a28a3_level0_row0\" class=\"row_heading level0 row0\" >0</th>\n",
       "                        <td id=\"T_a28a3_row0_col0\" class=\"data row0 col0\" >2019-08-27</td>\n",
       "                        <td id=\"T_a28a3_row0_col1\" class=\"data row0 col1\" >('https://twitter.com/syedAliGelani_/status/1160881631474978817',)</td>\n",
       "            </tr>\n",
       "            <tr>\n",
       "                        <th id=\"T_a28a3_level0_row1\" class=\"row_heading level0 row1\" >1</th>\n",
       "                        <td id=\"T_a28a3_row1_col0\" class=\"data row1 col0\" >2021-01-29</td>\n",
       "                        <td id=\"T_a28a3_row1_col1\" class=\"data row1 col1\" >('https://twitter.com/NainaMughal22',)</td>\n",
       "            </tr>\n",
       "            <tr>\n",
       "                        <th id=\"T_a28a3_level0_row2\" class=\"row_heading level0 row2\" >2</th>\n",
       "                        <td id=\"T_a28a3_row2_col0\" class=\"data row2 col0\" >2021-04-24</td>\n",
       "                        <td id=\"T_a28a3_row2_col1\" class=\"data row2 col1\" >('https://twitter.com/TSP_JALE/status/1384754443393011719',)</td>\n",
       "            </tr>\n",
       "            <tr>\n",
       "                        <th id=\"T_a28a3_level0_row3\" class=\"row_heading level0 row3\" >3</th>\n",
       "                        <td id=\"T_a28a3_row3_col0\" class=\"data row3 col0\" >2019-08-22</td>\n",
       "                        <td id=\"T_a28a3_row3_col1\" class=\"data row3 col1\" >('https://twitter.com/Yasir_Musafir',)</td>\n",
       "            </tr>\n",
       "            <tr>\n",
       "                        <th id=\"T_a28a3_level0_row4\" class=\"row_heading level0 row4\" >4</th>\n",
       "                        <td id=\"T_a28a3_row4_col0\" class=\"data row4 col0\" >2021-03-29</td>\n",
       "                        <td id=\"T_a28a3_row4_col1\" class=\"data row4 col1\" >('https://twitter.com/HarcharanBajwa2',)</td>\n",
       "            </tr>\n",
       "            <tr>\n",
       "                        <th id=\"T_a28a3_level0_row5\" class=\"row_heading level0 row5\" >5</th>\n",
       "                        <td id=\"T_a28a3_row5_col0\" class=\"data row5 col0\" >2021-08-20</td>\n",
       "                        <td id=\"T_a28a3_row5_col1\" class=\"data row5 col1\" >('https://twitter.com/faizan0008/status/1378768683061760002',)</td>\n",
       "            </tr>\n",
       "            <tr>\n",
       "                        <th id=\"T_a28a3_level0_row6\" class=\"row_heading level0 row6\" >6</th>\n",
       "                        <td id=\"T_a28a3_row6_col0\" class=\"data row6 col0\" >2019-08-23</td>\n",
       "                        <td id=\"T_a28a3_row6_col1\" class=\"data row6 col1\" >('https://twitter.com/kashmir787',)</td>\n",
       "            </tr>\n",
       "            <tr>\n",
       "                        <th id=\"T_a28a3_level0_row7\" class=\"row_heading level0 row7\" >7</th>\n",
       "                        <td id=\"T_a28a3_row7_col0\" class=\"data row7 col0\" >2019-05-10</td>\n",
       "                        <td id=\"T_a28a3_row7_col1\" class=\"data row7 col1\" >('https://twitter.com/aism_e',)</td>\n",
       "            </tr>\n",
       "            <tr>\n",
       "                        <th id=\"T_a28a3_level0_row8\" class=\"row_heading level0 row8\" >8</th>\n",
       "                        <td id=\"T_a28a3_row8_col0\" class=\"data row8 col0\" >2019-07-03</td>\n",
       "                        <td id=\"T_a28a3_row8_col1\" class=\"data row8 col1\" >('https://MundaKoshur.com',)</td>\n",
       "            </tr>\n",
       "            <tr>\n",
       "                        <th id=\"T_a28a3_level0_row9\" class=\"row_heading level0 row9\" >9</th>\n",
       "                        <td id=\"T_a28a3_row9_col0\" class=\"data row9 col0\" >2019-07-17</td>\n",
       "                        <td id=\"T_a28a3_row9_col1\" class=\"data row9 col1\" >('https://twitter.com/tankarvind/status/1147715749038792704',)</td>\n",
       "            </tr>\n",
       "            <tr>\n",
       "                        <th id=\"T_a28a3_level0_row10\" class=\"row_heading level0 row10\" >10</th>\n",
       "                        <td id=\"T_a28a3_row10_col0\" class=\"data row10 col0\" >2021-07-01</td>\n",
       "                        <td id=\"T_a28a3_row10_col1\" class=\"data row10 col1\" >('https://twitter.com/Fathersaab_/status/1346732605182337024',)</td>\n",
       "            </tr>\n",
       "            <tr>\n",
       "                        <th id=\"T_a28a3_level0_row11\" class=\"row_heading level0 row11\" >11</th>\n",
       "                        <td id=\"T_a28a3_row11_col0\" class=\"data row11 col0\" >2019-09-01</td>\n",
       "                        <td id=\"T_a28a3_row11_col1\" class=\"data row11 col1\" >('https://twitter.com/ahsanAkhan7/status/1159589926188527616',)</td>\n",
       "            </tr>\n",
       "            <tr>\n",
       "                        <th id=\"T_a28a3_level0_row12\" class=\"row_heading level0 row12\" >12</th>\n",
       "                        <td id=\"T_a28a3_row12_col0\" class=\"data row12 col0\" >2021-07-09</td>\n",
       "                        <td id=\"T_a28a3_row12_col1\" class=\"data row12 col1\" >('https://twitter.com/ActivistsUk/status/1267412848424165376',)</td>\n",
       "            </tr>\n",
       "            <tr>\n",
       "                        <th id=\"T_a28a3_level0_row13\" class=\"row_heading level0 row13\" >13</th>\n",
       "                        <td id=\"T_a28a3_row13_col0\" class=\"data row13 col0\" >2021-10-11</td>\n",
       "                        <td id=\"T_a28a3_row13_col1\" class=\"data row13 col1\" >('https://twitter.com/Jahid_ul_Islam/status/1335458073545084928',)</td>\n",
       "            </tr>\n",
       "            <tr>\n",
       "                        <th id=\"T_a28a3_level0_row14\" class=\"row_heading level0 row14\" >14</th>\n",
       "                        <td id=\"T_a28a3_row14_col0\" class=\"data row14 col0\" >2021-02-10</td>\n",
       "                        <td id=\"T_a28a3_row14_col1\" class=\"data row14 col1\" >('https://twitter.com/WaseemAhmedINC/',)</td>\n",
       "            </tr>\n",
       "            <tr>\n",
       "                        <th id=\"T_a28a3_level0_row15\" class=\"row_heading level0 row15\" >15</th>\n",
       "                        <td id=\"T_a28a3_row15_col0\" class=\"data row15 col0\" >2021-07-24</td>\n",
       "                        <td id=\"T_a28a3_row15_col1\" class=\"data row15 col1\" >('https://twitter.com/AndleebAyubii',)</td>\n",
       "            </tr>\n",
       "            <tr>\n",
       "                        <th id=\"T_a28a3_level0_row16\" class=\"row_heading level0 row16\" >16</th>\n",
       "                        <td id=\"T_a28a3_row16_col0\" class=\"data row16 col0\" >2019-07-31</td>\n",
       "                        <td id=\"T_a28a3_row16_col1\" class=\"data row16 col1\" >('https://twitter.com/ManojChetri_/status/1148866958554566656',)</td>\n",
       "            </tr>\n",
       "            <tr>\n",
       "                        <th id=\"T_a28a3_level0_row17\" class=\"row_heading level0 row17\" >17</th>\n",
       "                        <td id=\"T_a28a3_row17_col0\" class=\"data row17 col0\" >2021-03-18</td>\n",
       "                        <td id=\"T_a28a3_row17_col1\" class=\"data row17 col1\" >('https://twitter.com/Rishtweet04/status/1360085791024685057',)</td>\n",
       "            </tr>\n",
       "            <tr>\n",
       "                        <th id=\"T_a28a3_level0_row18\" class=\"row_heading level0 row18\" >18</th>\n",
       "                        <td id=\"T_a28a3_row18_col0\" class=\"data row18 col0\" >2021-08-13</td>\n",
       "                        <td id=\"T_a28a3_row18_col1\" class=\"data row18 col1\" >('https://twitter.com/therdxsingh',)</td>\n",
       "            </tr>\n",
       "            <tr>\n",
       "                        <th id=\"T_a28a3_level0_row19\" class=\"row_heading level0 row19\" >19</th>\n",
       "                        <td id=\"T_a28a3_row19_col0\" class=\"data row19 col0\" >2021-04-06</td>\n",
       "                        <td id=\"T_a28a3_row19_col1\" class=\"data row19 col1\" >('https://twitter.com/sangeet63791400/status/1378974372031909888?s=24',)</td>\n",
       "            </tr>\n",
       "            <tr>\n",
       "                        <th id=\"T_a28a3_level0_row20\" class=\"row_heading level0 row20\" >20</th>\n",
       "                        <td id=\"T_a28a3_row20_col0\" class=\"data row20 col0\" >2020-12-01</td>\n",
       "                        <td id=\"T_a28a3_row20_col1\" class=\"data row20 col1\" >('https://twitter.com/UnaizaButt/status/1323222183506829313',)</td>\n",
       "            </tr>\n",
       "            <tr>\n",
       "                        <th id=\"T_a28a3_level0_row21\" class=\"row_heading level0 row21\" >21</th>\n",
       "                        <td id=\"T_a28a3_row21_col0\" class=\"data row21 col0\" >2019-08-28</td>\n",
       "                        <td id=\"T_a28a3_row21_col1\" class=\"data row21 col1\" >('https://twitter.com/GhazwaeHind7',)</td>\n",
       "            </tr>\n",
       "            <tr>\n",
       "                        <th id=\"T_a28a3_level0_row22\" class=\"row_heading level0 row22\" >22</th>\n",
       "                        <td id=\"T_a28a3_row22_col0\" class=\"data row22 col0\" >2019-06-05</td>\n",
       "                        <td id=\"T_a28a3_row22_col1\" class=\"data row22 col1\" >('https://twitter.com/UmarKashmiri_',)</td>\n",
       "            </tr>\n",
       "            <tr>\n",
       "                        <th id=\"T_a28a3_level0_row23\" class=\"row_heading level0 row23\" >23</th>\n",
       "                        <td id=\"T_a28a3_row23_col0\" class=\"data row23 col0\" >2021-06-07</td>\n",
       "                        <td id=\"T_a28a3_row23_col1\" class=\"data row23 col1\" >('https://twitter.com/Tarande61695394',)</td>\n",
       "            </tr>\n",
       "            <tr>\n",
       "                        <th id=\"T_a28a3_level0_row24\" class=\"row_heading level0 row24\" >24</th>\n",
       "                        <td id=\"T_a28a3_row24_col0\" class=\"data row24 col0\" >2020-10-14</td>\n",
       "                        <td id=\"T_a28a3_row24_col1\" class=\"data row24 col1\" >('https://twitter.com/SingleMommyUK/status/1282244581061472259',)</td>\n",
       "            </tr>\n",
       "            <tr>\n",
       "                        <th id=\"T_a28a3_level0_row25\" class=\"row_heading level0 row25\" >25</th>\n",
       "                        <td id=\"T_a28a3_row25_col0\" class=\"data row25 col0\" >2021-04-29</td>\n",
       "                        <td id=\"T_a28a3_row25_col1\" class=\"data row25 col1\" >('https://twitter.com/kuntal28695281/status/1370190317182349312',)</td>\n",
       "            </tr>\n",
       "            <tr>\n",
       "                        <th id=\"T_a28a3_level0_row26\" class=\"row_heading level0 row26\" >26</th>\n",
       "                        <td id=\"T_a28a3_row26_col0\" class=\"data row26 col0\" >2021-04-14</td>\n",
       "                        <td id=\"T_a28a3_row26_col1\" class=\"data row26 col1\" >('https://twitter.com/Brahman_Geetika/status/1378662709974077440',)</td>\n",
       "            </tr>\n",
       "    </tbody></table>"
      ],
      "text/plain": [
       "<pandas.io.formats.style.Styler at 0x123985850>"
      ]
     },
     "execution_count": 170,
     "metadata": {},
     "output_type": "execute_result"
    }
   ],
   "source": [
    "cols = ['Date', 'Accounts whose contents were actioned']\n",
    "df = pd.DataFrame(columns=cols)\n",
    "df['Date']=accounts.keys()\n",
    "df['Accounts whose contents were actioned']=(accounts.values())\n",
    "df.style.set_properties(subset=['Accounts whose contents were actioned'], **{'width': '500px'})\n"
   ]
  },
  {
   "cell_type": "code",
   "execution_count": null,
   "id": "0dad9f6a",
   "metadata": {},
   "outputs": [],
   "source": []
  }
 ],
 "metadata": {
  "kernelspec": {
   "display_name": "Python 3",
   "language": "python",
   "name": "python3"
  },
  "language_info": {
   "codemirror_mode": {
    "name": "ipython",
    "version": 3
   },
   "file_extension": ".py",
   "mimetype": "text/x-python",
   "name": "python",
   "nbconvert_exporter": "python",
   "pygments_lexer": "ipython3",
   "version": "3.8.8"
  }
 },
 "nbformat": 4,
 "nbformat_minor": 5
}
